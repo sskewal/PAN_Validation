{
 "cells": [
  {
   "cell_type": "markdown",
   "id": "3a53d04d",
   "metadata": {},
   "source": [
    "##### Importing necessary libraries:"
   ]
  },
  {
   "cell_type": "code",
   "execution_count": 1,
   "id": "55272cd3",
   "metadata": {},
   "outputs": [],
   "source": [
    "import pandas as pd\n",
    "import datetime\n",
    "from datetime import date\n",
    "pd.set_option('display.max_columns', None)\n",
    "import warnings\n",
    "warnings.filterwarnings(\"ignore\")"
   ]
  },
  {
   "cell_type": "markdown",
   "id": "f568839b",
   "metadata": {},
   "source": [
    "##### Reading file which contains PAN number"
   ]
  },
  {
   "cell_type": "code",
   "execution_count": 2,
   "id": "18160564",
   "metadata": {
    "slideshow": {
     "slide_type": "slide"
    }
   },
   "outputs": [
    {
     "name": "stdout",
     "output_type": "stream",
     "text": [
      "Enter path where file is kept: D:\\Python\n",
      "Enter file name along with extension: PAN_list_Sample.xlsx\n",
      "File read successfully.\n"
     ]
    }
   ],
   "source": [
    "path = input('Enter path where file is kept: ')\n",
    "file_name = input('Enter file name along with extension: ')\n",
    "\n",
    "df = pd.read_excel(path+'\\\\'+file_name)\n",
    "print('File read successfully.')\n",
    "\n",
    "df['PAN'] = df['PAN'].str.strip()\n",
    "df.drop(df[df['PAN'] ==''].index,axis=0,inplace=True)\n",
    "df.drop(df[df['PAN'] ==' '].index,axis=0,inplace=True)\n",
    "df.drop(df[df['PAN'].isna()].index,axis=0,inplace=True)"
   ]
  },
  {
   "cell_type": "markdown",
   "id": "e13d704d",
   "metadata": {},
   "source": [
    "###### Checking for valid first 3 characters:"
   ]
  },
  {
   "cell_type": "code",
   "execution_count": 3,
   "id": "f81ec0e5",
   "metadata": {},
   "outputs": [],
   "source": [
    "invalid_first_3_characters_df = df[df['PAN'].str[0:3].str.isalpha() == False]"
   ]
  },
  {
   "cell_type": "markdown",
   "id": "20cd04b6",
   "metadata": {},
   "source": [
    "##### Checking for valid 4th character:"
   ]
  },
  {
   "cell_type": "code",
   "execution_count": 4,
   "id": "0d42ed8d",
   "metadata": {},
   "outputs": [],
   "source": [
    "invalid_4th_character_df = df[(~(df['PAN'].str[3:4].isin(['A','B','C','F','G','H','J','L','P','T'])))]"
   ]
  },
  {
   "cell_type": "markdown",
   "id": "041da05f",
   "metadata": {},
   "source": [
    "##### Checking for valid 4th character with respect to Type of Customer:"
   ]
  },
  {
   "cell_type": "code",
   "execution_count": 5,
   "id": "873d92c8",
   "metadata": {},
   "outputs": [],
   "source": [
    "individual_pan = df[(df['Type of Customer'] == 'Individual') & (df['PAN'].str[3:4]!='P')]\n",
    "company_pan = df[(df['Type of Customer'] == 'Company') & (df['PAN'].str[3:4]!='C')]\n",
    "huf_pan = df[(df['Type of Customer'].isin(['HUF','Hindu Undivided Family'])) & (df['PAN'].str[3:4]!='H')]\n",
    "association_pan = df[(df['Type of Customer'].isin(['Association of Persons','AOP'])) & (df['PAN'].str[3:4]!='A')]\n",
    "boi_pan = df[(df['Type of Customer'].isin(['Body of Individuals','BOI'])) & (df['PAN'].str[3:4]!='B')]\n",
    "government_pan = df[(df['Type of Customer']=='Government Agency') & (df['PAN'].str[3:4]!='G')]\n",
    "artificial_juridical_pan = df[(df['Type of Customer'] == 'Artificial Juridical Person') & (df['PAN'].str[3:4]!='J')]\n",
    "local_authority_pan = df[(df['Type of Customer'] == 'Local Authority') & (df['PAN'].str[3:4]!='L')]\n",
    "partnership_pan = df[(df['Type of Customer'].isin(['Firm','Limited Liability Partnership'])) & (df['PAN'].str[3:4]!='F')]\n",
    "trust_pan = df[(df['Type of Customer']=='Trust') & (df['PAN'].str[3:4]!='T')]\n",
    "invalid_pan_4th_character_with_respect_type_of_customer_df = individual_pan.append([company_pan,huf_pan,association_pan,boi_pan,government_pan,\n",
    "                                                                                    artificial_juridical_pan,local_authority_pan,partnership_pan,\n",
    "                                                                                    trust_pan],ignore_index=True)\n",
    "invalid_pan_4th_character_with_respect_type_of_customer_df['Comments']='PAN 4th character mismatch with Type of Customer'"
   ]
  },
  {
   "cell_type": "markdown",
   "id": "4e9a3ee3",
   "metadata": {},
   "source": [
    "##### Checking for valid 6th to 9th characters:"
   ]
  },
  {
   "cell_type": "code",
   "execution_count": 6,
   "id": "e06b272c",
   "metadata": {},
   "outputs": [],
   "source": [
    "invalid_6th_to_9th_characters_df = df[df['PAN'].str[5:9].str.isdigit() == False]"
   ]
  },
  {
   "cell_type": "markdown",
   "id": "5791fdf2",
   "metadata": {},
   "source": [
    "##### Checking for valid last character:"
   ]
  },
  {
   "cell_type": "code",
   "execution_count": 7,
   "id": "eb297eab",
   "metadata": {},
   "outputs": [],
   "source": [
    "invalid_last_character_df = df[df['PAN'].str[-1].str.isalpha() == False]"
   ]
  },
  {
   "cell_type": "markdown",
   "id": "4cf7c2a1",
   "metadata": {},
   "source": [
    "##### Output in single excel workbook:"
   ]
  },
  {
   "cell_type": "code",
   "execution_count": 9,
   "id": "6df39efb",
   "metadata": {},
   "outputs": [],
   "source": [
    "with pd.ExcelWriter(path+'\\PAN_Validation_Output.xlsx') as writer:\n",
    "        \n",
    "    if len(invalid_first_3_characters_df)!=0:\n",
    "        invalid_first_3_characters_df.to_excel(writer, sheet_name='Invalid first 3 characters',index=False)\n",
    "        \n",
    "    if len(invalid_4th_character_df)!=0:\n",
    "        invalid_4th_character_df.to_excel(writer, sheet_name='Invalid 4th character',index=False)\n",
    "    \n",
    "    if len(invalid_pan_4th_character_with_respect_type_of_customer_df)!=0:\n",
    "        invalid_pan_4th_character_with_respect_type_of_customer_df.to_excel(writer, \n",
    "                                                                            sheet_name='4th char & type of customer',\n",
    "                                                                            index=False)\n",
    "    if len(invalid_6th_to_9th_characters_df)!=0:\n",
    "        invalid_6th_to_9th_characters_df.to_excel(writer, sheet_name='Invalid 6th to 9th characters',index=False)\n",
    "        \n",
    "    if len(invalid_last_character_df)!=0:\n",
    "        invalid_last_character_df.to_excel(writer, sheet_name='Invalid last character',index=False)"
   ]
  },
  {
   "cell_type": "code",
   "execution_count": null,
   "id": "cea194e8",
   "metadata": {},
   "outputs": [],
   "source": []
  }
 ],
 "metadata": {
  "celltoolbar": "Raw Cell Format",
  "kernelspec": {
   "display_name": "Python 3 (ipykernel)",
   "language": "python",
   "name": "python3"
  },
  "language_info": {
   "codemirror_mode": {
    "name": "ipython",
    "version": 3
   },
   "file_extension": ".py",
   "mimetype": "text/x-python",
   "name": "python",
   "nbconvert_exporter": "python",
   "pygments_lexer": "ipython3",
   "version": "3.9.7"
  }
 },
 "nbformat": 4,
 "nbformat_minor": 5
}
